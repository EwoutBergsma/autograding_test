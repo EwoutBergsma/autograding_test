{
 "cells": [
  {
   "attachments": {},
   "cell_type": "markdown",
   "metadata": {},
   "source": [
    "# Assignments\n",
    "Finish the code below such that it matches the description.\n",
    "\n",
    "### Assignment 1a\n",
    "In the code cell below, create a function called `add` that takes two arguments, adds them up and returns that result."
   ]
  },
  {
   "cell_type": "code",
   "execution_count": 1,
   "metadata": {},
   "outputs": [],
   "source": [
    "def add(a, b):\n",
    "    return a+b"
   ]
  },
  {
   "attachments": {},
   "cell_type": "markdown",
   "metadata": {},
   "source": [
    "### Assignment 1b\n",
    "In the code cell below, create a function called `multiply` that takes two arguments, multiplies them up and returns that result."
   ]
  },
  {
   "cell_type": "code",
   "execution_count": 1,
   "metadata": {},
   "outputs": [],
   "source": [
    "def multiply(a, b):\n",
    "    return a*b"
   ]
  },
  {
   "attachments": {},
   "cell_type": "markdown",
   "metadata": {},
   "source": [
    "### Assignment 2\n",
    "\n",
    "For no apparent reason, other than showcasing functionality, watch this video:\n",
    "\n",
    "[![Watch the video](https://img.youtube.com/vi/spUNpyF58BY/maxresdefault.jpg)](https://youtu.be/spUNpyF58BY?t=145)\n",
    "\n",
    "After watching, create a function called `awesome_string`, that takes no arguments, and returns the string \"automatic assignments are fun!\""
   ]
  },
  {
   "cell_type": "code",
   "execution_count": 2,
   "metadata": {},
   "outputs": [],
   "source": [
    "def awesome_string():\n",
    "    return \"automatic assignments are fun!\""
   ]
  }
 ],
 "metadata": {
  "kernelspec": {
   "display_name": "Python 3",
   "language": "python",
   "name": "python3"
  },
  "language_info": {
   "codemirror_mode": {
    "name": "ipython",
    "version": 3
   },
   "file_extension": ".py",
   "mimetype": "text/x-python",
   "name": "python",
   "nbconvert_exporter": "python",
   "pygments_lexer": "ipython3",
   "version": "3.11.2"
  },
  "orig_nbformat": 4
 },
 "nbformat": 4,
 "nbformat_minor": 2
}
